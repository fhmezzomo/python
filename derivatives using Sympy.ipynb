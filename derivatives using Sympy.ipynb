{
 "cells": [
  {
   "cell_type": "markdown",
   "id": "f0e3f740",
   "metadata": {},
   "source": [
    "# Piston motion - connecting rod crank mechanism equations\n",
    "# derivatives using Sympy"
   ]
  },
  {
   "cell_type": "code",
   "execution_count": 6,
   "id": "a76cb108",
   "metadata": {},
   "outputs": [],
   "source": [
    "import sympy\n",
    "from sympy import *"
   ]
  },
  {
   "cell_type": "code",
   "execution_count": 10,
   "id": "39cb7420",
   "metadata": {},
   "outputs": [
    {
     "data": {
      "text/latex": [
       "$\\displaystyle - \\frac{r^{2} \\sin{\\left(\\alpha \\right)} \\cos{\\left(\\alpha \\right)}}{\\sqrt{l^{2} - r^{2} \\sin^{2}{\\left(\\alpha \\right)}}} - r \\sin{\\left(\\alpha \\right)}$"
      ],
      "text/plain": [
       "-r**2*sin(alpha)*cos(alpha)/sqrt(l**2 - r**2*sin(alpha)**2) - r*sin(alpha)"
      ]
     },
     "execution_count": 10,
     "metadata": {},
     "output_type": "execute_result"
    }
   ],
   "source": [
    "x2, r, alpha, l, vx = sympy.symbols('x2, r, alpha, l, vx')\n",
    "x2=r*sympy.cos(alpha)+sqrt(l**2-(r*sympy.sin(alpha))**2)\n",
    "dx=diff(x2, alpha)\n",
    "vx=dx\n",
    "vx"
   ]
  },
  {
   "cell_type": "code",
   "execution_count": 12,
   "id": "7a75ee82",
   "metadata": {},
   "outputs": [
    {
     "data": {
      "text/plain": [
       "'-r**2*sin(alpha)*cos(alpha)/sqrt(l**2 - r**2*sin(alpha)**2) - r*sin(alpha)'"
      ]
     },
     "execution_count": 12,
     "metadata": {},
     "output_type": "execute_result"
    }
   ],
   "source": [
    "vx=str(vx)\n",
    "vx"
   ]
  },
  {
   "cell_type": "code",
   "execution_count": 11,
   "id": "39e253fa",
   "metadata": {},
   "outputs": [
    {
     "data": {
      "text/latex": [
       "$\\displaystyle - \\frac{r^{4} \\sin^{2}{\\left(\\alpha \\right)} \\cos^{2}{\\left(\\alpha \\right)}}{\\left(l^{2} - r^{2} \\sin^{2}{\\left(\\alpha \\right)}\\right)^{\\frac{3}{2}}} + \\frac{r^{2} \\sin^{2}{\\left(\\alpha \\right)}}{\\sqrt{l^{2} - r^{2} \\sin^{2}{\\left(\\alpha \\right)}}} - \\frac{r^{2} \\cos^{2}{\\left(\\alpha \\right)}}{\\sqrt{l^{2} - r^{2} \\sin^{2}{\\left(\\alpha \\right)}}} - r \\cos{\\left(\\alpha \\right)}$"
      ],
      "text/plain": [
       "-r**4*sin(alpha)**2*cos(alpha)**2/(l**2 - r**2*sin(alpha)**2)**(3/2) + r**2*sin(alpha)**2/sqrt(l**2 - r**2*sin(alpha)**2) - r**2*cos(alpha)**2/sqrt(l**2 - r**2*sin(alpha)**2) - r*cos(alpha)"
      ]
     },
     "execution_count": 11,
     "metadata": {},
     "output_type": "execute_result"
    }
   ],
   "source": [
    "ax=diff(dx,alpha)\n",
    "ax"
   ]
  },
  {
   "cell_type": "code",
   "execution_count": 13,
   "id": "b83c7a61",
   "metadata": {},
   "outputs": [
    {
     "data": {
      "text/plain": [
       "'-r**4*sin(alpha)**2*cos(alpha)**2/(l**2 - r**2*sin(alpha)**2)**(3/2) + r**2*sin(alpha)**2/sqrt(l**2 - r**2*sin(alpha)**2) - r**2*cos(alpha)**2/sqrt(l**2 - r**2*sin(alpha)**2) - r*cos(alpha)'"
      ]
     },
     "execution_count": 13,
     "metadata": {},
     "output_type": "execute_result"
    }
   ],
   "source": [
    "ax=str(ax)\n",
    "ax"
   ]
  }
 ],
 "metadata": {
  "kernelspec": {
   "display_name": "Python 3 (ipykernel)",
   "language": "python",
   "name": "python3"
  },
  "language_info": {
   "codemirror_mode": {
    "name": "ipython",
    "version": 3
   },
   "file_extension": ".py",
   "mimetype": "text/x-python",
   "name": "python",
   "nbconvert_exporter": "python",
   "pygments_lexer": "ipython3",
   "version": "3.9.7"
  }
 },
 "nbformat": 4,
 "nbformat_minor": 5
}
